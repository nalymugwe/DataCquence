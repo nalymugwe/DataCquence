{
 "cells": [
  {
   "cell_type": "code",
   "execution_count": 35,
   "metadata": {},
   "outputs": [
    {
     "name": "stdout",
     "output_type": "stream",
     "text": [
      "                ID                                               name  \\\n",
      "0       1000002330                    The Songs of Adelaide & Abullah   \n",
      "1       1000003930      Greeting From Earth: ZGAC Arts Capsule For ET   \n",
      "2       1000004038                                     Where is Hank?   \n",
      "3       1000007540  ToshiCapital Rekordz Needs Help to Complete Album   \n",
      "4       1000011046  Community Film Project: The Art of Neighborhoo...   \n",
      "...            ...                                                ...   \n",
      "378656   999976400  ChknTruk Nationwide Charity Drive 2014 (Canceled)   \n",
      "378657   999977640                                          The Tribe   \n",
      "378658   999986353  Walls of Remedy- New lesbian Romantic Comedy f...   \n",
      "378659   999987933                           BioDefense Education Kit   \n",
      "378660   999988282                  Nou Renmen Ayiti!  We Love Haiti!   \n",
      "\n",
      "               category main_category currency    deadline     goal  \\\n",
      "0                Poetry    Publishing      GBP   10/9/2015   1000.0   \n",
      "1        Narrative Film  Film & Video      USD   11/1/2017  30000.0   \n",
      "2        Narrative Film  Film & Video      USD   2/26/2013  45000.0   \n",
      "3                 Music         Music      USD   4/16/2012   5000.0   \n",
      "4          Film & Video  Film & Video      USD   8/29/2015  19500.0   \n",
      "...                 ...           ...      ...         ...      ...   \n",
      "378656      Documentary  Film & Video      USD  10/17/2014  50000.0   \n",
      "378657   Narrative Film  Film & Video      USD   7/19/2011   1500.0   \n",
      "378658   Narrative Film  Film & Video      USD   8/16/2010  15000.0   \n",
      "378659       Technology    Technology      USD   2/13/2016  15000.0   \n",
      "378660  Performance Art           Art      USD   8/16/2011   2000.0   \n",
      "\n",
      "               launched  pledged     state  backers country  usd pledged  \\\n",
      "0       8/11/2015 12:12      0.0    failed        0      GB          0.0   \n",
      "1         9/2/2017 4:43   2421.0    failed       15      US        100.0   \n",
      "2        1/12/2013 0:20    220.0    failed        3      US        220.0   \n",
      "3        3/17/2012 3:24      1.0    failed        1      US          1.0   \n",
      "4         7/4/2015 8:35   1283.0  canceled       14      US       1283.0   \n",
      "...                 ...      ...       ...      ...     ...          ...   \n",
      "378656   9/17/2014 2:35     25.0  canceled        1      US         25.0   \n",
      "378657   6/22/2011 3:35    155.0    failed        5      US        155.0   \n",
      "378658   7/1/2010 19:40     20.0    failed        1      US         20.0   \n",
      "378659  1/13/2016 18:13    200.0    failed        6      US        200.0   \n",
      "378660   7/19/2011 9:07    524.0    failed       17      US        524.0   \n",
      "\n",
      "        usd_pledged_real  usd_goal_real  \n",
      "0                    0.0        1533.95  \n",
      "1                 2421.0       30000.00  \n",
      "2                  220.0       45000.00  \n",
      "3                    1.0        5000.00  \n",
      "4                 1283.0       19500.00  \n",
      "...                  ...            ...  \n",
      "378656              25.0       50000.00  \n",
      "378657             155.0        1500.00  \n",
      "378658              20.0       15000.00  \n",
      "378659             200.0       15000.00  \n",
      "378660             524.0        2000.00  \n",
      "\n",
      "[378661 rows x 15 columns]\n"
     ]
    }
   ],
   "source": [
    "import numpy as np\n",
    "import pandas as pd\n",
    "KSProject = r'C:\\Users\\TASHA\\Desktop\\ks-projects-201801.csv'\n",
    "data = pd.read_csv(KSProject)\n",
    "print(data)"
   ]
  },
  {
   "cell_type": "code",
   "execution_count": 39,
   "metadata": {},
   "outputs": [
    {
     "data": {
      "text/html": [
       "<div>\n",
       "<style scoped>\n",
       "    .dataframe tbody tr th:only-of-type {\n",
       "        vertical-align: middle;\n",
       "    }\n",
       "\n",
       "    .dataframe tbody tr th {\n",
       "        vertical-align: top;\n",
       "    }\n",
       "\n",
       "    .dataframe thead th {\n",
       "        text-align: right;\n",
       "    }\n",
       "</style>\n",
       "<table border=\"1\" class=\"dataframe\">\n",
       "  <thead>\n",
       "    <tr style=\"text-align: right;\">\n",
       "      <th></th>\n",
       "      <th>name</th>\n",
       "      <th>category</th>\n",
       "      <th>main_category</th>\n",
       "      <th>currency</th>\n",
       "      <th>deadline</th>\n",
       "      <th>goal</th>\n",
       "      <th>launched</th>\n",
       "      <th>pledged</th>\n",
       "      <th>state</th>\n",
       "      <th>backers</th>\n",
       "      <th>country</th>\n",
       "      <th>usd pledged</th>\n",
       "      <th>usd_pledged_real</th>\n",
       "      <th>usd_goal_real</th>\n",
       "    </tr>\n",
       "    <tr>\n",
       "      <th>ID</th>\n",
       "      <th></th>\n",
       "      <th></th>\n",
       "      <th></th>\n",
       "      <th></th>\n",
       "      <th></th>\n",
       "      <th></th>\n",
       "      <th></th>\n",
       "      <th></th>\n",
       "      <th></th>\n",
       "      <th></th>\n",
       "      <th></th>\n",
       "      <th></th>\n",
       "      <th></th>\n",
       "      <th></th>\n",
       "    </tr>\n",
       "  </thead>\n",
       "  <tbody>\n",
       "    <tr>\n",
       "      <th>1000002330</th>\n",
       "      <td>The Songs of Adelaide &amp; Abullah</td>\n",
       "      <td>Poetry</td>\n",
       "      <td>Publishing</td>\n",
       "      <td>GBP</td>\n",
       "      <td>10/9/2015</td>\n",
       "      <td>1000.0</td>\n",
       "      <td>8/11/2015 12:12</td>\n",
       "      <td>0.0</td>\n",
       "      <td>failed</td>\n",
       "      <td>0</td>\n",
       "      <td>GB</td>\n",
       "      <td>0.0</td>\n",
       "      <td>0.0</td>\n",
       "      <td>1533.95</td>\n",
       "    </tr>\n",
       "    <tr>\n",
       "      <th>1000003930</th>\n",
       "      <td>Greeting From Earth: ZGAC Arts Capsule For ET</td>\n",
       "      <td>Narrative Film</td>\n",
       "      <td>Film &amp; Video</td>\n",
       "      <td>USD</td>\n",
       "      <td>11/1/2017</td>\n",
       "      <td>30000.0</td>\n",
       "      <td>9/2/2017 4:43</td>\n",
       "      <td>2421.0</td>\n",
       "      <td>failed</td>\n",
       "      <td>15</td>\n",
       "      <td>US</td>\n",
       "      <td>100.0</td>\n",
       "      <td>2421.0</td>\n",
       "      <td>30000.00</td>\n",
       "    </tr>\n",
       "    <tr>\n",
       "      <th>1000004038</th>\n",
       "      <td>Where is Hank?</td>\n",
       "      <td>Narrative Film</td>\n",
       "      <td>Film &amp; Video</td>\n",
       "      <td>USD</td>\n",
       "      <td>2/26/2013</td>\n",
       "      <td>45000.0</td>\n",
       "      <td>1/12/2013 0:20</td>\n",
       "      <td>220.0</td>\n",
       "      <td>failed</td>\n",
       "      <td>3</td>\n",
       "      <td>US</td>\n",
       "      <td>220.0</td>\n",
       "      <td>220.0</td>\n",
       "      <td>45000.00</td>\n",
       "    </tr>\n",
       "    <tr>\n",
       "      <th>1000007540</th>\n",
       "      <td>ToshiCapital Rekordz Needs Help to Complete Album</td>\n",
       "      <td>Music</td>\n",
       "      <td>Music</td>\n",
       "      <td>USD</td>\n",
       "      <td>4/16/2012</td>\n",
       "      <td>5000.0</td>\n",
       "      <td>3/17/2012 3:24</td>\n",
       "      <td>1.0</td>\n",
       "      <td>failed</td>\n",
       "      <td>1</td>\n",
       "      <td>US</td>\n",
       "      <td>1.0</td>\n",
       "      <td>1.0</td>\n",
       "      <td>5000.00</td>\n",
       "    </tr>\n",
       "    <tr>\n",
       "      <th>1000011046</th>\n",
       "      <td>Community Film Project: The Art of Neighborhoo...</td>\n",
       "      <td>Film &amp; Video</td>\n",
       "      <td>Film &amp; Video</td>\n",
       "      <td>USD</td>\n",
       "      <td>8/29/2015</td>\n",
       "      <td>19500.0</td>\n",
       "      <td>7/4/2015 8:35</td>\n",
       "      <td>1283.0</td>\n",
       "      <td>canceled</td>\n",
       "      <td>14</td>\n",
       "      <td>US</td>\n",
       "      <td>1283.0</td>\n",
       "      <td>1283.0</td>\n",
       "      <td>19500.00</td>\n",
       "    </tr>\n",
       "  </tbody>\n",
       "</table>\n",
       "</div>"
      ],
      "text/plain": [
       "                                                         name        category  \\\n",
       "ID                                                                              \n",
       "1000002330                    The Songs of Adelaide & Abullah          Poetry   \n",
       "1000003930      Greeting From Earth: ZGAC Arts Capsule For ET  Narrative Film   \n",
       "1000004038                                     Where is Hank?  Narrative Film   \n",
       "1000007540  ToshiCapital Rekordz Needs Help to Complete Album           Music   \n",
       "1000011046  Community Film Project: The Art of Neighborhoo...    Film & Video   \n",
       "\n",
       "           main_category currency   deadline     goal         launched  \\\n",
       "ID                                                                       \n",
       "1000002330    Publishing      GBP  10/9/2015   1000.0  8/11/2015 12:12   \n",
       "1000003930  Film & Video      USD  11/1/2017  30000.0    9/2/2017 4:43   \n",
       "1000004038  Film & Video      USD  2/26/2013  45000.0   1/12/2013 0:20   \n",
       "1000007540         Music      USD  4/16/2012   5000.0   3/17/2012 3:24   \n",
       "1000011046  Film & Video      USD  8/29/2015  19500.0    7/4/2015 8:35   \n",
       "\n",
       "            pledged     state  backers country  usd pledged  usd_pledged_real  \\\n",
       "ID                                                                              \n",
       "1000002330      0.0    failed        0      GB          0.0               0.0   \n",
       "1000003930   2421.0    failed       15      US        100.0            2421.0   \n",
       "1000004038    220.0    failed        3      US        220.0             220.0   \n",
       "1000007540      1.0    failed        1      US          1.0               1.0   \n",
       "1000011046   1283.0  canceled       14      US       1283.0            1283.0   \n",
       "\n",
       "            usd_goal_real  \n",
       "ID                         \n",
       "1000002330        1533.95  \n",
       "1000003930       30000.00  \n",
       "1000004038       45000.00  \n",
       "1000007540        5000.00  \n",
       "1000011046       19500.00  "
      ]
     },
     "execution_count": 39,
     "metadata": {},
     "output_type": "execute_result"
    }
   ],
   "source": [
    "data.head()"
   ]
  },
  {
   "cell_type": "code",
   "execution_count": 46,
   "metadata": {},
   "outputs": [
    {
     "name": "stdout",
     "output_type": "stream",
     "text": [
      "                   category     state\n",
      "ID                                   \n",
      "1000002330           Poetry    failed\n",
      "1000003930   Narrative Film    failed\n",
      "1000004038   Narrative Film    failed\n",
      "1000007540            Music    failed\n",
      "1000011046     Film & Video  canceled\n",
      "...                     ...       ...\n",
      "999976400       Documentary  canceled\n",
      "999977640    Narrative Film    failed\n",
      "999986353    Narrative Film    failed\n",
      "999987933        Technology    failed\n",
      "999988282   Performance Art    failed\n",
      "\n",
      "[378661 rows x 2 columns]\n"
     ]
    }
   ],
   "source": [
    "dataset = data.iloc[:, [1, 8]]\n",
    "print(dataset)"
   ]
  },
  {
   "cell_type": "code",
   "execution_count": 50,
   "metadata": {},
   "outputs": [
    {
     "data": {
      "text/plain": [
       "Product Design     22314\n",
       "Documentary        16139\n",
       "Music              15727\n",
       "Tabletop Games     14180\n",
       "Shorts             12357\n",
       "                   ...  \n",
       "Residencies           69\n",
       "Letterpress           49\n",
       "Chiptune              35\n",
       "Literary Spaces       27\n",
       "Taxidermy             13\n",
       "Name: category, Length: 159, dtype: int64"
      ]
     },
     "execution_count": 50,
     "metadata": {},
     "output_type": "execute_result"
    }
   ],
   "source": [
    " dataset['category'].value_counts('state'=='failed')"
   ]
  },
  {
   "cell_type": "code",
   "execution_count": 53,
   "metadata": {},
   "outputs": [
    {
     "name": "stdout",
     "output_type": "stream",
     "text": [
      "           currency  pledged     state\n",
      "ID                                    \n",
      "1000002330      GBP      0.0    failed\n",
      "1000003930      USD   2421.0    failed\n",
      "1000004038      USD    220.0    failed\n",
      "1000007540      USD      1.0    failed\n",
      "1000011046      USD   1283.0  canceled\n",
      "...             ...      ...       ...\n",
      "999976400       USD     25.0  canceled\n",
      "999977640       USD    155.0    failed\n",
      "999986353       USD     20.0    failed\n",
      "999987933       USD    200.0    failed\n",
      "999988282       USD    524.0    failed\n",
      "\n",
      "[378661 rows x 3 columns]\n"
     ]
    }
   ],
   "source": [
    "dataset2 = data.iloc[:, [3, 7, 8]]\n",
    "print(dataset2)"
   ]
  },
  {
   "cell_type": "code",
   "execution_count": 55,
   "metadata": {},
   "outputs": [
    {
     "name": "stdout",
     "output_type": "stream",
     "text": [
      "           currency   pledged       state\n",
      "ID                                       \n",
      "1000014025      USD  52375.00  successful\n",
      "1000023410      USD   1205.00  successful\n",
      "100005484       USD  12700.00  successful\n",
      "1000057089      GBP  94175.00  successful\n",
      "1000070642      USD    250.00  successful\n",
      "...             ...       ...         ...\n",
      "999929142       EUR   1246.00  successful\n",
      "999934908       USD   6169.00  successful\n",
      "999943841       USD   1732.02  successful\n",
      "999969812       CAD   5501.00  successful\n",
      "999971898       NOK  21500.00  successful\n",
      "\n",
      "[133956 rows x 3 columns]\n"
     ]
    }
   ],
   "source": [
    "subdataset2 = dataset2[dataset2['state']=='successful']\n",
    "print(subdataset2)"
   ]
  },
  {
   "cell_type": "code",
   "execution_count": 57,
   "metadata": {},
   "outputs": [
    {
     "data": {
      "text/plain": [
       "currency\n",
       "AUD     23838.241512\n",
       "CAD     22943.676425\n",
       "CHF     59409.893957\n",
       "DKK    120417.841713\n",
       "EUR     29285.205299\n",
       "GBP     11425.423845\n",
       "HKD    312160.410185\n",
       "JPY    602579.428571\n",
       "MXN     93042.759242\n",
       "NOK    106935.703006\n",
       "NZD     20506.494196\n",
       "SEK    190524.241139\n",
       "SGD     37534.728427\n",
       "USD     23224.491061\n",
       "Name: pledged, dtype: float64"
      ]
     },
     "execution_count": 57,
     "metadata": {},
     "output_type": "execute_result"
    }
   ],
   "source": [
    "subdataset2.groupby('currency') ['pledged'].mean()"
   ]
  },
  {
   "cell_type": "code",
   "execution_count": 58,
   "metadata": {},
   "outputs": [
    {
     "name": "stdout",
     "output_type": "stream",
     "text": [
      "           currency  pledged   state\n",
      "ID                                  \n",
      "1000002330      GBP      0.0  failed\n",
      "1000003930      USD   2421.0  failed\n",
      "1000004038      USD    220.0  failed\n",
      "1000007540      USD      1.0  failed\n",
      "1000030581      USD    453.0  failed\n",
      "...             ...      ...     ...\n",
      "999975836       USD    154.0  failed\n",
      "999977640       USD    155.0  failed\n",
      "999986353       USD     20.0  failed\n",
      "999987933       USD    200.0  failed\n",
      "999988282       USD    524.0  failed\n",
      "\n",
      "[197719 rows x 3 columns]\n"
     ]
    }
   ],
   "source": [
    "sub2dataset2 = dataset2[dataset2['state']=='failed']\n",
    "print(sub2dataset2)"
   ]
  },
  {
   "cell_type": "code",
   "execution_count": 59,
   "metadata": {},
   "outputs": [
    {
     "data": {
      "text/plain": [
       "currency\n",
       "AUD      1463.513525\n",
       "CAD      1366.933904\n",
       "CHF      2357.404753\n",
       "DKK      6696.072557\n",
       "EUR      1226.068236\n",
       "GBP       938.623944\n",
       "HKD     15174.159119\n",
       "JPY    337740.625000\n",
       "MXN      5236.850463\n",
       "NOK      7008.694038\n",
       "NZD      1514.417554\n",
       "SEK      8078.665954\n",
       "SGD      2279.094746\n",
       "USD      1330.723810\n",
       "Name: pledged, dtype: float64"
      ]
     },
     "execution_count": 59,
     "metadata": {},
     "output_type": "execute_result"
    }
   ],
   "source": [
    "sub2dataset2.groupby('currency') ['pledged'].mean()"
   ]
  },
  {
   "cell_type": "code",
   "execution_count": 62,
   "metadata": {},
   "outputs": [
    {
     "data": {
      "text/plain": [
       "6/20/2017 16:00     15\n",
       "11/13/2013 0:02      8\n",
       "11/1/2016 16:00      8\n",
       "10/4/2016 18:00      7\n",
       "7/11/2014 21:15      7\n",
       "                    ..\n",
       "11/22/2012 18:05     1\n",
       "10/26/2010 6:09      1\n",
       "9/13/2012 22:55      1\n",
       "6/30/2013 3:23       1\n",
       "2/2/2014 7:45        1\n",
       "Name: launched, Length: 347035, dtype: int64"
      ]
     },
     "execution_count": 62,
     "metadata": {},
     "output_type": "execute_result"
    }
   ],
   "source": [
    "data['launched'].value_counts('state'=='failed')"
   ]
  },
  {
   "cell_type": "code",
   "execution_count": 64,
   "metadata": {},
   "outputs": [
    {
     "data": {
      "text/plain": [
       "<bound method Series.drop_duplicates of name                375722\n",
       "category               159\n",
       "main_category           15\n",
       "currency                14\n",
       "deadline              3164\n",
       "goal                  8353\n",
       "launched            347035\n",
       "pledged              62130\n",
       "state                    6\n",
       "backers               3963\n",
       "country                 23\n",
       "usd pledged          95455\n",
       "usd_pledged_real    106065\n",
       "usd_goal_real        50339\n",
       "dtype: int64>"
      ]
     },
     "execution_count": 64,
     "metadata": {},
     "output_type": "execute_result"
    }
   ],
   "source": [
    "data.nunique().drop_duplicates"
   ]
  },
  {
   "cell_type": "code",
   "execution_count": null,
   "metadata": {},
   "outputs": [],
   "source": []
  }
 ],
 "metadata": {
  "kernelspec": {
   "display_name": "Python 3",
   "language": "python",
   "name": "python3"
  },
  "language_info": {
   "codemirror_mode": {
    "name": "ipython",
    "version": 3
   },
   "file_extension": ".py",
   "mimetype": "text/x-python",
   "name": "python",
   "nbconvert_exporter": "python",
   "pygments_lexer": "ipython3",
   "version": "3.8.3"
  }
 },
 "nbformat": 4,
 "nbformat_minor": 4
}
