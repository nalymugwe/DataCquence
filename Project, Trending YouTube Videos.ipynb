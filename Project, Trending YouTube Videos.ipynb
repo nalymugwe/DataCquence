{
 "cells": [
  {
   "cell_type": "code",
   "execution_count": 1,
   "metadata": {},
   "outputs": [],
   "source": [
    "# import libraries\n",
    "import os\n",
    "import csv\n",
    "import numpy as np\n",
    "import pandas as pd\n",
    "import matplotlib.pyplot as plt\n",
    "import datetime\n",
    "import glob"
   ]
  },
  {
   "cell_type": "code",
   "execution_count": 2,
   "metadata": {},
   "outputs": [],
   "source": [
    "#Import all data\n",
    "\n",
    "USA_data = pd.read_csv(r'C:\\Project-Trending-YouTube-Videos\\US_youtube_trending_data.csv')\n",
    "Brazil_data = pd.read_csv(r'C:\\Project-Trending-YouTube-Videos\\BR_youtube_trending_data.csv')\n",
    "India_data = pd.read_csv(r'C:\\Project-Trending-YouTube-Videos\\IN_youtube_trending_data.csv')\n",
    "GreatBritain_data = pd.read_csv(r'C:\\Project-Trending-YouTube-Videos\\GB_youtube_trending_data.csv')\n",
    "Germany_data = pd.read_csv(r'C:\\Project-Trending-YouTube-Videos\\DE_youtube_trending_data.csv')\n",
    "Canada_data = pd.read_csv(r'C:\\Project-Trending-YouTube-Videos\\CA_youtube_trending_data.csv')\n",
    "France_data = pd.read_csv(r'C:\\Project-Trending-YouTube-Videos\\FR_youtube_trending_data.csv')\n",
    "Russia_data = pd.read_csv(r'C:\\Project-Trending-YouTube-Videos\\RU_youtube_trending_data.csv')\n",
    "Mexico_data = pd.read_csv(r'C:\\Project-Trending-YouTube-Videos\\MX_youtube_trending_data.csv')\n",
    "SouthKorea_data = pd.read_csv(r'C:\\Project-Trending-YouTube-Videos\\KR_youtube_trending_data.csv')\n",
    "Japan_data = pd.read_csv(r'C:\\Project-Trending-YouTube-Videos\\JP_youtube_trending_data.csv')\n"
   ]
  },
  {
   "cell_type": "code",
   "execution_count": 3,
   "metadata": {},
   "outputs": [
    {
     "data": {
      "text/html": [
       "<div>\n",
       "<style scoped>\n",
       "    .dataframe tbody tr th:only-of-type {\n",
       "        vertical-align: middle;\n",
       "    }\n",
       "\n",
       "    .dataframe tbody tr th {\n",
       "        vertical-align: top;\n",
       "    }\n",
       "\n",
       "    .dataframe thead th {\n",
       "        text-align: right;\n",
       "    }\n",
       "</style>\n",
       "<table border=\"1\" class=\"dataframe\">\n",
       "  <thead>\n",
       "    <tr style=\"text-align: right;\">\n",
       "      <th></th>\n",
       "      <th></th>\n",
       "      <th>video_id</th>\n",
       "      <th>title</th>\n",
       "      <th>publishedAt</th>\n",
       "      <th>channelId</th>\n",
       "      <th>channelTitle</th>\n",
       "      <th>categoryId</th>\n",
       "      <th>trending_date</th>\n",
       "      <th>tags</th>\n",
       "      <th>view_count</th>\n",
       "      <th>likes</th>\n",
       "      <th>dislikes</th>\n",
       "      <th>comment_count</th>\n",
       "      <th>thumbnail_link</th>\n",
       "      <th>comments_disabled</th>\n",
       "      <th>ratings_disabled</th>\n",
       "      <th>description</th>\n",
       "    </tr>\n",
       "  </thead>\n",
       "  <tbody>\n",
       "    <tr>\n",
       "      <th rowspan=\"5\" valign=\"top\">USA</th>\n",
       "      <th>0</th>\n",
       "      <td>3C66w5Z0ixs</td>\n",
       "      <td>I ASKED HER TO BE MY GIRLFRIEND...</td>\n",
       "      <td>2020-08-11T19:20:14Z</td>\n",
       "      <td>UCvtRTOMP2TqYqu51xNrqAzg</td>\n",
       "      <td>Brawadis</td>\n",
       "      <td>22</td>\n",
       "      <td>2020-08-12T00:00:00Z</td>\n",
       "      <td>brawadis|prank|basketball|skits|ghost|funny vi...</td>\n",
       "      <td>1514614</td>\n",
       "      <td>156908</td>\n",
       "      <td>5855</td>\n",
       "      <td>35313</td>\n",
       "      <td>https://i.ytimg.com/vi/3C66w5Z0ixs/default.jpg</td>\n",
       "      <td>False</td>\n",
       "      <td>False</td>\n",
       "      <td>SUBSCRIBE to BRAWADIS ▶ http://bit.ly/Subscrib...</td>\n",
       "    </tr>\n",
       "    <tr>\n",
       "      <th>1</th>\n",
       "      <td>M9Pmf9AB4Mo</td>\n",
       "      <td>Apex Legends | Stories from the Outlands – “Th...</td>\n",
       "      <td>2020-08-11T17:00:10Z</td>\n",
       "      <td>UC0ZV6M2THA81QT9hrVWJG3A</td>\n",
       "      <td>Apex Legends</td>\n",
       "      <td>20</td>\n",
       "      <td>2020-08-12T00:00:00Z</td>\n",
       "      <td>Apex Legends|Apex Legends characters|new Apex ...</td>\n",
       "      <td>2381688</td>\n",
       "      <td>146739</td>\n",
       "      <td>2794</td>\n",
       "      <td>16549</td>\n",
       "      <td>https://i.ytimg.com/vi/M9Pmf9AB4Mo/default.jpg</td>\n",
       "      <td>False</td>\n",
       "      <td>False</td>\n",
       "      <td>While running her own modding shop, Ramya Pare...</td>\n",
       "    </tr>\n",
       "    <tr>\n",
       "      <th>2</th>\n",
       "      <td>J78aPJ3VyNs</td>\n",
       "      <td>I left youtube for a month and THIS is what ha...</td>\n",
       "      <td>2020-08-11T16:34:06Z</td>\n",
       "      <td>UCYzPXprvl5Y-Sf0g4vX-m6g</td>\n",
       "      <td>jacksepticeye</td>\n",
       "      <td>24</td>\n",
       "      <td>2020-08-12T00:00:00Z</td>\n",
       "      <td>jacksepticeye|funny|funny meme|memes|jacksepti...</td>\n",
       "      <td>2038853</td>\n",
       "      <td>353787</td>\n",
       "      <td>2628</td>\n",
       "      <td>40221</td>\n",
       "      <td>https://i.ytimg.com/vi/J78aPJ3VyNs/default.jpg</td>\n",
       "      <td>False</td>\n",
       "      <td>False</td>\n",
       "      <td>I left youtube for a month and this is what ha...</td>\n",
       "    </tr>\n",
       "    <tr>\n",
       "      <th>3</th>\n",
       "      <td>kXLn3HkpjaA</td>\n",
       "      <td>XXL 2020 Freshman Class Revealed - Official An...</td>\n",
       "      <td>2020-08-11T16:38:55Z</td>\n",
       "      <td>UCbg_UMjlHJg_19SZckaKajg</td>\n",
       "      <td>XXL</td>\n",
       "      <td>10</td>\n",
       "      <td>2020-08-12T00:00:00Z</td>\n",
       "      <td>xxl freshman|xxl freshmen|2020 xxl freshman|20...</td>\n",
       "      <td>496771</td>\n",
       "      <td>23251</td>\n",
       "      <td>1856</td>\n",
       "      <td>7647</td>\n",
       "      <td>https://i.ytimg.com/vi/kXLn3HkpjaA/default.jpg</td>\n",
       "      <td>False</td>\n",
       "      <td>False</td>\n",
       "      <td>Subscribe to XXL → http://bit.ly/subscribe-xxl...</td>\n",
       "    </tr>\n",
       "    <tr>\n",
       "      <th>4</th>\n",
       "      <td>VIUo6yapDbc</td>\n",
       "      <td>Ultimate DIY Home Movie Theater for The LaBran...</td>\n",
       "      <td>2020-08-11T15:10:05Z</td>\n",
       "      <td>UCDVPcEbVLQgLZX0Rt6jo34A</td>\n",
       "      <td>Mr. Kate</td>\n",
       "      <td>26</td>\n",
       "      <td>2020-08-12T00:00:00Z</td>\n",
       "      <td>The LaBrant Family|DIY|Interior Design|Makeove...</td>\n",
       "      <td>1123889</td>\n",
       "      <td>45802</td>\n",
       "      <td>964</td>\n",
       "      <td>2196</td>\n",
       "      <td>https://i.ytimg.com/vi/VIUo6yapDbc/default.jpg</td>\n",
       "      <td>False</td>\n",
       "      <td>False</td>\n",
       "      <td>Transforming The LaBrant Family's empty white ...</td>\n",
       "    </tr>\n",
       "  </tbody>\n",
       "</table>\n",
       "</div>"
      ],
      "text/plain": [
       "          video_id                                              title  \\\n",
       "USA 0  3C66w5Z0ixs                 I ASKED HER TO BE MY GIRLFRIEND...   \n",
       "    1  M9Pmf9AB4Mo  Apex Legends | Stories from the Outlands – “Th...   \n",
       "    2  J78aPJ3VyNs  I left youtube for a month and THIS is what ha...   \n",
       "    3  kXLn3HkpjaA  XXL 2020 Freshman Class Revealed - Official An...   \n",
       "    4  VIUo6yapDbc  Ultimate DIY Home Movie Theater for The LaBran...   \n",
       "\n",
       "                publishedAt                 channelId   channelTitle  \\\n",
       "USA 0  2020-08-11T19:20:14Z  UCvtRTOMP2TqYqu51xNrqAzg       Brawadis   \n",
       "    1  2020-08-11T17:00:10Z  UC0ZV6M2THA81QT9hrVWJG3A   Apex Legends   \n",
       "    2  2020-08-11T16:34:06Z  UCYzPXprvl5Y-Sf0g4vX-m6g  jacksepticeye   \n",
       "    3  2020-08-11T16:38:55Z  UCbg_UMjlHJg_19SZckaKajg            XXL   \n",
       "    4  2020-08-11T15:10:05Z  UCDVPcEbVLQgLZX0Rt6jo34A       Mr. Kate   \n",
       "\n",
       "       categoryId         trending_date  \\\n",
       "USA 0          22  2020-08-12T00:00:00Z   \n",
       "    1          20  2020-08-12T00:00:00Z   \n",
       "    2          24  2020-08-12T00:00:00Z   \n",
       "    3          10  2020-08-12T00:00:00Z   \n",
       "    4          26  2020-08-12T00:00:00Z   \n",
       "\n",
       "                                                    tags  view_count   likes  \\\n",
       "USA 0  brawadis|prank|basketball|skits|ghost|funny vi...     1514614  156908   \n",
       "    1  Apex Legends|Apex Legends characters|new Apex ...     2381688  146739   \n",
       "    2  jacksepticeye|funny|funny meme|memes|jacksepti...     2038853  353787   \n",
       "    3  xxl freshman|xxl freshmen|2020 xxl freshman|20...      496771   23251   \n",
       "    4  The LaBrant Family|DIY|Interior Design|Makeove...     1123889   45802   \n",
       "\n",
       "       dislikes  comment_count  \\\n",
       "USA 0      5855          35313   \n",
       "    1      2794          16549   \n",
       "    2      2628          40221   \n",
       "    3      1856           7647   \n",
       "    4       964           2196   \n",
       "\n",
       "                                       thumbnail_link  comments_disabled  \\\n",
       "USA 0  https://i.ytimg.com/vi/3C66w5Z0ixs/default.jpg              False   \n",
       "    1  https://i.ytimg.com/vi/M9Pmf9AB4Mo/default.jpg              False   \n",
       "    2  https://i.ytimg.com/vi/J78aPJ3VyNs/default.jpg              False   \n",
       "    3  https://i.ytimg.com/vi/kXLn3HkpjaA/default.jpg              False   \n",
       "    4  https://i.ytimg.com/vi/VIUo6yapDbc/default.jpg              False   \n",
       "\n",
       "       ratings_disabled                                        description  \n",
       "USA 0             False  SUBSCRIBE to BRAWADIS ▶ http://bit.ly/Subscrib...  \n",
       "    1             False  While running her own modding shop, Ramya Pare...  \n",
       "    2             False  I left youtube for a month and this is what ha...  \n",
       "    3             False  Subscribe to XXL → http://bit.ly/subscribe-xxl...  \n",
       "    4             False  Transforming The LaBrant Family's empty white ...  "
      ]
     },
     "execution_count": 3,
     "metadata": {},
     "output_type": "execute_result"
    }
   ],
   "source": [
    "#merging all data into one dataframe\n",
    "\n",
    "Merged_data = pd.concat([USA_data, Brazil_data, India_data, GreatBritain_data, Germany_data, Canada_data, France_data, Russia_data, Mexico_data, SouthKorea_data, Japan_data], keys = [\"USA\", \"Brazil\", \"India\", \"GreatBritain\", \"Germany\", \"Canada\", \"France\", \"Russia\" \"Mexico\", \"SouthKorea\", \"Japan\"])\n",
    "Merged_data.head()"
   ]
  },
  {
   "cell_type": "code",
   "execution_count": 4,
   "metadata": {},
   "outputs": [
    {
     "data": {
      "text/html": [
       "<div>\n",
       "<style scoped>\n",
       "    .dataframe tbody tr th:only-of-type {\n",
       "        vertical-align: middle;\n",
       "    }\n",
       "\n",
       "    .dataframe tbody tr th {\n",
       "        vertical-align: top;\n",
       "    }\n",
       "\n",
       "    .dataframe thead th {\n",
       "        text-align: right;\n",
       "    }\n",
       "</style>\n",
       "<table border=\"1\" class=\"dataframe\">\n",
       "  <thead>\n",
       "    <tr style=\"text-align: right;\">\n",
       "      <th></th>\n",
       "      <th></th>\n",
       "      <th>video_id</th>\n",
       "      <th>title</th>\n",
       "      <th>publishedAt</th>\n",
       "      <th>channelId</th>\n",
       "      <th>channelTitle</th>\n",
       "      <th>categoryId</th>\n",
       "      <th>trending_date</th>\n",
       "      <th>tags</th>\n",
       "      <th>view_count</th>\n",
       "      <th>likes</th>\n",
       "      <th>dislikes</th>\n",
       "      <th>comment_count</th>\n",
       "      <th>thumbnail_link</th>\n",
       "      <th>comments_disabled</th>\n",
       "      <th>ratings_disabled</th>\n",
       "      <th>description</th>\n",
       "    </tr>\n",
       "  </thead>\n",
       "  <tbody>\n",
       "    <tr>\n",
       "      <th rowspan=\"5\" valign=\"top\">Japan</th>\n",
       "      <th>18150</th>\n",
       "      <td>Q8hlP6a9K4A</td>\n",
       "      <td>빈지노는 Profile을 부를 자격이 있는가 EP.1</td>\n",
       "      <td>2020-11-19T08:00:03Z</td>\n",
       "      <td>UCl-tyxErWS-1ElS8UM8jryQ</td>\n",
       "      <td>개인사업자 임성빈</td>\n",
       "      <td>22</td>\n",
       "      <td>2020-11-27T00:00:00Z</td>\n",
       "      <td>빈지노|beenzino|개인사업자 임성빈|개인사업자 빈지노|빈지노 유튜브|임성빈 유...</td>\n",
       "      <td>559782</td>\n",
       "      <td>10665</td>\n",
       "      <td>120</td>\n",
       "      <td>2009</td>\n",
       "      <td>https://i.ytimg.com/vi/Q8hlP6a9K4A/default.jpg</td>\n",
       "      <td>False</td>\n",
       "      <td>False</td>\n",
       "      <td>안녕하세요!!!!    개인사업자 임성빈입니다.      일리네어레코즈 퇴사 후 ....</td>\n",
       "    </tr>\n",
       "    <tr>\n",
       "      <th>18151</th>\n",
       "      <td>m8IuwiiBffE</td>\n",
       "      <td>BTS on how they made new music during pandemic...</td>\n",
       "      <td>2020-11-23T14:38:09Z</td>\n",
       "      <td>UCH1oRy1dINbMVp3UFWrKP0w</td>\n",
       "      <td>Good Morning America</td>\n",
       "      <td>24</td>\n",
       "      <td>2020-11-27T00:00:00Z</td>\n",
       "      <td>BTS|bandmate|suga|surgery|recovery|music|Ameri...</td>\n",
       "      <td>1186372</td>\n",
       "      <td>154046</td>\n",
       "      <td>394</td>\n",
       "      <td>4250</td>\n",
       "      <td>https://i.ytimg.com/vi/m8IuwiiBffE/default.jpg</td>\n",
       "      <td>False</td>\n",
       "      <td>False</td>\n",
       "      <td>The band shares details on their album, BE, an...</td>\n",
       "    </tr>\n",
       "    <tr>\n",
       "      <th>18152</th>\n",
       "      <td>UsTz7l4WNxk</td>\n",
       "      <td>[분석]손흥민의 오른쪽 배치! '실리' 무리뉴 감독! 신의 한수!</td>\n",
       "      <td>2020-11-22T00:02:20Z</td>\n",
       "      <td>UCslHsYrei2VFZ3ZqHANNyzw</td>\n",
       "      <td>이건 Gun Lee의발품스토리 TV</td>\n",
       "      <td>17</td>\n",
       "      <td>2020-11-27T00:00:00Z</td>\n",
       "      <td>손흥민|토트넘|무리뉴|맨시티전|맨시티|골|9호골|11호골|분석|프리미어리그</td>\n",
       "      <td>127565</td>\n",
       "      <td>1043</td>\n",
       "      <td>43</td>\n",
       "      <td>65</td>\n",
       "      <td>https://i.ytimg.com/vi/UsTz7l4WNxk/default.jpg</td>\n",
       "      <td>False</td>\n",
       "      <td>False</td>\n",
       "      <td>맨시티전 9호골 손흥민 오른쪽 배치!무리뉴 감독의 묘수!</td>\n",
       "    </tr>\n",
       "    <tr>\n",
       "      <th>18153</th>\n",
       "      <td>8cNz9awcVqg</td>\n",
       "      <td>나훈아 2020 대한민국 어게인 ‘테스형!’</td>\n",
       "      <td>2020-11-16T06:40:23Z</td>\n",
       "      <td>UCpmctTnUfbeoycGhieZQAmw</td>\n",
       "      <td>DanalEntertainment</td>\n",
       "      <td>10</td>\n",
       "      <td>2020-11-27T00:00:00Z</td>\n",
       "      <td>music|musicvideo|danal|danalenter|kpop|korea|나...</td>\n",
       "      <td>2005322</td>\n",
       "      <td>20511</td>\n",
       "      <td>1020</td>\n",
       "      <td>2360</td>\n",
       "      <td>https://i.ytimg.com/vi/8cNz9awcVqg/default.jpg</td>\n",
       "      <td>False</td>\n",
       "      <td>False</td>\n",
       "      <td>지난 추석 연휴에 전국민의 가슴을 뜨겁게 한 2020 대한민국 어게인 나훈아 공연을...</td>\n",
       "    </tr>\n",
       "    <tr>\n",
       "      <th>18154</th>\n",
       "      <td>3rLWtpvsu_U</td>\n",
       "      <td>[축구 전술 분석] 이강인의 최대 장점은 사비(Xavi)의 그것과 닮아있다. 발렌시...</td>\n",
       "      <td>2020-11-20T09:05:59Z</td>\n",
       "      <td>UCCYujSLBIK8EDlAM3xi-0Rw</td>\n",
       "      <td>#Like_Football 라이크풋볼</td>\n",
       "      <td>17</td>\n",
       "      <td>2020-11-27T00:00:00Z</td>\n",
       "      <td>손흥민|흥미니|쏘니|케인|해리 케인|무리뉴|무링요|토트넘|토튼햄|이영표|EPL|프리...</td>\n",
       "      <td>160698</td>\n",
       "      <td>1654</td>\n",
       "      <td>51</td>\n",
       "      <td>666</td>\n",
       "      <td>https://i.ytimg.com/vi/3rLWtpvsu_U/default.jpg</td>\n",
       "      <td>False</td>\n",
       "      <td>False</td>\n",
       "      <td>#축구 #전술분석</td>\n",
       "    </tr>\n",
       "  </tbody>\n",
       "</table>\n",
       "</div>"
      ],
      "text/plain": [
       "                video_id                                              title  \\\n",
       "Japan 18150  Q8hlP6a9K4A                      빈지노는 Profile을 부를 자격이 있는가 EP.1   \n",
       "      18151  m8IuwiiBffE  BTS on how they made new music during pandemic...   \n",
       "      18152  UsTz7l4WNxk               [분석]손흥민의 오른쪽 배치! '실리' 무리뉴 감독! 신의 한수!   \n",
       "      18153  8cNz9awcVqg                           나훈아 2020 대한민국 어게인 ‘테스형!’   \n",
       "      18154  3rLWtpvsu_U  [축구 전술 분석] 이강인의 최대 장점은 사비(Xavi)의 그것과 닮아있다. 발렌시...   \n",
       "\n",
       "                      publishedAt                 channelId  \\\n",
       "Japan 18150  2020-11-19T08:00:03Z  UCl-tyxErWS-1ElS8UM8jryQ   \n",
       "      18151  2020-11-23T14:38:09Z  UCH1oRy1dINbMVp3UFWrKP0w   \n",
       "      18152  2020-11-22T00:02:20Z  UCslHsYrei2VFZ3ZqHANNyzw   \n",
       "      18153  2020-11-16T06:40:23Z  UCpmctTnUfbeoycGhieZQAmw   \n",
       "      18154  2020-11-20T09:05:59Z  UCCYujSLBIK8EDlAM3xi-0Rw   \n",
       "\n",
       "                     channelTitle  categoryId         trending_date  \\\n",
       "Japan 18150             개인사업자 임성빈          22  2020-11-27T00:00:00Z   \n",
       "      18151  Good Morning America          24  2020-11-27T00:00:00Z   \n",
       "      18152   이건 Gun Lee의발품스토리 TV          17  2020-11-27T00:00:00Z   \n",
       "      18153    DanalEntertainment          10  2020-11-27T00:00:00Z   \n",
       "      18154  #Like_Football 라이크풋볼          17  2020-11-27T00:00:00Z   \n",
       "\n",
       "                                                          tags  view_count  \\\n",
       "Japan 18150  빈지노|beenzino|개인사업자 임성빈|개인사업자 빈지노|빈지노 유튜브|임성빈 유...      559782   \n",
       "      18151  BTS|bandmate|suga|surgery|recovery|music|Ameri...     1186372   \n",
       "      18152          손흥민|토트넘|무리뉴|맨시티전|맨시티|골|9호골|11호골|분석|프리미어리그      127565   \n",
       "      18153  music|musicvideo|danal|danalenter|kpop|korea|나...     2005322   \n",
       "      18154  손흥민|흥미니|쏘니|케인|해리 케인|무리뉴|무링요|토트넘|토튼햄|이영표|EPL|프리...      160698   \n",
       "\n",
       "              likes  dislikes  comment_count  \\\n",
       "Japan 18150   10665       120           2009   \n",
       "      18151  154046       394           4250   \n",
       "      18152    1043        43             65   \n",
       "      18153   20511      1020           2360   \n",
       "      18154    1654        51            666   \n",
       "\n",
       "                                             thumbnail_link  \\\n",
       "Japan 18150  https://i.ytimg.com/vi/Q8hlP6a9K4A/default.jpg   \n",
       "      18151  https://i.ytimg.com/vi/m8IuwiiBffE/default.jpg   \n",
       "      18152  https://i.ytimg.com/vi/UsTz7l4WNxk/default.jpg   \n",
       "      18153  https://i.ytimg.com/vi/8cNz9awcVqg/default.jpg   \n",
       "      18154  https://i.ytimg.com/vi/3rLWtpvsu_U/default.jpg   \n",
       "\n",
       "             comments_disabled  ratings_disabled  \\\n",
       "Japan 18150              False             False   \n",
       "      18151              False             False   \n",
       "      18152              False             False   \n",
       "      18153              False             False   \n",
       "      18154              False             False   \n",
       "\n",
       "                                                   description  \n",
       "Japan 18150  안녕하세요!!!!    개인사업자 임성빈입니다.      일리네어레코즈 퇴사 후 ....  \n",
       "      18151  The band shares details on their album, BE, an...  \n",
       "      18152                    맨시티전 9호골 손흥민 오른쪽 배치!무리뉴 감독의 묘수!  \n",
       "      18153  지난 추석 연휴에 전국민의 가슴을 뜨겁게 한 2020 대한민국 어게인 나훈아 공연을...  \n",
       "      18154                                          #축구 #전술분석  "
      ]
     },
     "execution_count": 4,
     "metadata": {},
     "output_type": "execute_result"
    }
   ],
   "source": [
    "Merged_data.tail()"
   ]
  },
  {
   "cell_type": "code",
   "execution_count": 5,
   "metadata": {},
   "outputs": [],
   "source": [
    "#import seaborn library\n",
    "\n",
    "import seaborn as sns"
   ]
  },
  {
   "cell_type": "code",
   "execution_count": 7,
   "metadata": {},
   "outputs": [
    {
     "name": "stdout",
     "output_type": "stream",
     "text": [
      "               view_count     likes  dislikes  comment_count\n",
      "view_count       1.000000  0.911435  0.258831       0.812074\n",
      "likes            0.911435  1.000000  0.202894       0.838058\n",
      "dislikes         0.258831  0.202894  1.000000       0.233443\n",
      "comment_count    0.812074  0.838058  0.233443       1.000000\n"
     ]
    }
   ],
   "source": [
    "#Is there a correlation between likes, dislikes, comment count and view count?\n",
    "\n",
    "correlated_data = Merged_data[['view_count', 'likes', 'dislikes', 'comment_count']]\n",
    "corr = correlated_data.corr()\n",
    "print(corr)"
   ]
  },
  {
   "cell_type": "code",
   "execution_count": 8,
   "metadata": {},
   "outputs": [],
   "source": [
    "#Oberservation\n",
    "#This is the pearson correlation values:\n",
    "       #1 = a strong positive correlation\n",
    "       #0 = no correlation\n",
    "      #-1 = strong negative correlation.\n",
    "\n",
    "#This shows that there is a strong positive correlation with number of likes and number of views, while there is a moderate correlation between views and comment count. Additionally, there's a negative correlation on the number of dislikes to likes, comments and views."
   ]
  },
  {
   "cell_type": "code",
   "execution_count": 9,
   "metadata": {},
   "outputs": [
    {
     "data": {
      "image/png": "[encoded data removed]",
      "text/plain": [
       "<Figure size 432x288 with 2 Axes>"
      ]
     },
     "metadata": {
      "needs_background": "light"
     },
     "output_type": "display_data"
    }
   ],
   "source": [
    "#To help visualize the data\n",
    "#The lighter the colour the higher the correlation\n",
    "\n",
    "plt.figure()\n",
    "sns.heatmap(corr, annot=True);"
   ]
  },
  {
   "cell_type": "code",
   "execution_count": 10,
   "metadata": {},
   "outputs": [
    {
     "data": {
      "image/png": "[encoded data removed]",
      "text/plain": [
       "<Figure size 432x288 with 1 Axes>"
      ]
     },
     "metadata": {
      "needs_background": "light"
     },
     "output_type": "display_data"
    }
   ],
   "source": [
    "#to get a closer look at the scatterplot for likes/views\n",
    "\n",
    "plt.figure()\n",
    "sns.scatterplot(x=Merged_data['view_count'], y=Merged_data['likes'])\n",
    "plt.show()"
   ]
  },
  {
   "cell_type": "code",
   "execution_count": 11,
   "metadata": {},
   "outputs": [],
   "source": [
    "#observation\n",
    "#At the beginning when a video is trending, the view count and likes are strongly correlated however with time, this is not the case. The number of likes reduces but the view count keeps increasing. This could be due to the latter viewers are most probably not fans of the channel."
   ]
  },
  {
   "cell_type": "code",
   "execution_count": 20,
   "metadata": {},
   "outputs": [
    {
     "data": {
      "text/plain": [
       "<Figure size 432x288 with 0 Axes>"
      ]
     },
     "metadata": {},
     "output_type": "display_data"
    },
    {
     "data": {
      "image/png": "[encoded data removed]",
      "text/plain": [
       "<Figure size 432x288 with 1 Axes>"
      ]
     },
     "metadata": {
      "needs_background": "light"
     },
     "output_type": "display_data"
    }
   ],
   "source": [
    "#Get the number of views for each category\n",
    "\n",
    "views_per_category=Merged_data.groupby(by=['categoryId'],as_index=False).view_count.sum()\n",
    "plt.figure()\n",
    "views_per_category.plot.bar('categoryId', 'view_count')\n",
    "plt.show()"
   ]
  },
  {
   "cell_type": "code",
   "execution_count": 21,
   "metadata": {},
   "outputs": [],
   "source": [
    "#Youtube list of categories: ID\tCategory name\n",
    "#1\tFilm & Animation\n",
    "#2\tAutos & Vehicles\n",
    "#10\tMusic\n",
    "#15\tPets & Animals\n",
    "#17\tSports\n",
    "#19\tTravel & Events\n",
    "#20\tGaming\n",
    "#22\tPeople & Blogs\n",
    "#23\tComedy\n",
    "#24\tEntertainment\n",
    "#25\tNews & Politics\n",
    "#26\tHowto & Style\n",
    "#27\tEducation\n",
    "#28\tScience & Technology\n",
    "#29\tNonprofits & Activism\n",
    "\n",
    "#Observation: The top 3 Youtube categories with the highest views are in: music, entertainment and gaming. The least viewed are in:  that has the highest views are in Nonprofits & Activism, Travel & Events and Pets & Animals. "
   ]
  },
  {
   "cell_type": "code",
   "execution_count": 48,
   "metadata": {
    "scrolled": true
   },
   "outputs": [
    {
     "data": {
      "image/png": "[encoded data removed]",
      "text/plain": [
       "<Figure size 1440x1080 with 1 Axes>"
      ]
     },
     "metadata": {
      "needs_background": "light"
     },
     "output_type": "display_data"
    }
   ],
   "source": [
    "#The most frequent words that appear in channel titles for trending videos\n",
    "\n",
    "Merged_data['channelTitle'].value_counts().head(15).sort_values().plot(kind='barh', figsize=(20,15))\n",
    "plt.title(\"Top 15 Youtube Channels - the most frequently appearing in Trending Videos\", size=20)\n",
    "plt.show()"
   ]
  }
 ],
 "metadata": {
  "kernelspec": {
   "display_name": "Python 3",
   "language": "python",
   "name": "python3"
  },
  "language_info": {
   "codemirror_mode": {
    "name": "ipython",
    "version": 3
   },
   "file_extension": ".py",
   "mimetype": "text/x-python",
   "name": "python",
   "nbconvert_exporter": "python",
   "pygments_lexer": "ipython3",
   "version": "3.8.3"
  }
 },
 "nbformat": 4,
 "nbformat_minor": 4
}
